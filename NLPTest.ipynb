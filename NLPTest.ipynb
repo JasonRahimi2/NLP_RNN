{
 "cells": [
  {
   "cell_type": "code",
   "execution_count": 93,
   "id": "5c67aa0b-52ad-4d5d-a251-a7fb65c8b13d",
   "metadata": {},
   "outputs": [],
   "source": [
    "#Import libraries\n",
    "import tensorflow as tf\n",
    "import pandas as pd\n",
    "import numpy as np\n",
    "from tensorflow.keras.preprocessing.text import Tokenizer\n",
    "from tensorflow.keras.preprocessing.sequence import pad_sequences"
   ]
  },
  {
   "cell_type": "code",
   "execution_count": 94,
   "id": "9e26404b-109f-448f-8c94-7fb8afa934ba",
   "metadata": {},
   "outputs": [],
   "source": [
    "#Load the restaurant reviews dataset into a pandas DataFrame\n",
    "dataset = pd.read_csv('/Restaurant_Reviews.csv')"
   ]
  },
  {
   "cell_type": "code",
   "execution_count": null,
   "id": "02107631-e912-434d-b24b-e1334f71def0",
   "metadata": {},
   "outputs": [],
   "source": [
    "#Display the first 5 rows of the dataset\n",
    "dataset.head(5)"
   ]
  },
  {
   "cell_type": "code",
   "execution_count": 96,
   "id": "655c6d57-1b14-4768-b73f-997e1059c5c1",
   "metadata": {},
   "outputs": [],
   "source": [
    "#Convert review text into padded integer sequences and extract labels\n",
    "tokenizer = Tokenizer(num_words=10000)\n",
    "tokenizer.fit_on_texts(dataset['Review'])\n",
    "sequences = tokenizer.texts_to_sequences(dataset['Review'])\n",
    "\n",
    "max_length = 100\n",
    "X = pad_sequences(sequences, maxlen=max_length)\n",
    "\n",
    "y = dataset['Liked'].values #Labels (liked = 1, not liked = 0)"
   ]
  },
  {
   "cell_type": "code",
   "execution_count": 97,
   "id": "da51dd4b-8bc7-421b-ad7f-b1f8f8576a9a",
   "metadata": {},
   "outputs": [],
   "source": [
    "#Split training and test sets\n",
    "from sklearn.model_selection import train_test_split\n",
    "\n",
    "X_train, X_test, y_train, y_test = train_test_split(X, y, test_size=0.2)"
   ]
  },
  {
   "cell_type": "code",
   "execution_count": 98,
   "id": "6ee56eb3-6d57-4e21-ac02-8c614d2438ac",
   "metadata": {},
   "outputs": [],
   "source": [
    "#Build an LSTM-based neural network for binary sentiment classification\n",
    "from tensorflow.keras.models import Sequential\n",
    "from tensorflow.keras.layers import Embedding, LSTM, Dense\n",
    "\n",
    "model = Sequential()\n",
    "\n",
    "model.add(Embedding(input_dim=10000,\n",
    "                    output_dim=32))\n",
    "\n",
    "model.add(LSTM(64))\n",
    "\n",
    "model.add(Dense(1, activation='sigmoid'))"
   ]
  },
  {
   "cell_type": "code",
   "execution_count": 99,
   "id": "efc8565e-81aa-448f-9495-7fdcf6a00d38",
   "metadata": {},
   "outputs": [],
   "source": [
    "#Compile the model \n",
    "model.compile(loss='binary_crossentropy', optimizer='adam', metrics=['accuracy'])"
   ]
  },
  {
   "cell_type": "code",
   "execution_count": null,
   "id": "45f8089a-0b72-4ff4-a0a0-00b88e156f04",
   "metadata": {},
   "outputs": [],
   "source": [
    "#Train the model\n",
    "model.fit(X_train, y_train, epochs=10, batch_size=16, validation_data=(X_test, y_test))"
   ]
  },
  {
   "cell_type": "code",
   "execution_count": 101,
   "id": "bea31221-2d25-4005-8bd7-742a3894d7d0",
   "metadata": {},
   "outputs": [],
   "source": [
    "#Develop function for sentiment analysis\n",
    "def predict_sentiment(review, tokenizer, model):\n",
    "    sequence = tokenizer.texts_to_sequences([review])\n",
    "    padded_sequence = pad_sequences(sequence, padding='post')\n",
    "\n",
    "    probability = model.predict(padded_sequence, verbose=0)[0][0]\n",
    "\n",
    "    #Classify as positive (1) if probability > 0.5, else negative (0)\n",
    "    prediction = 1 if probability > 0.5 else 0\n",
    "    sentiment = \"Positive\" if prediction == 1 else \"Negative\"\n",
    "\n",
    "    return sentiment, probability"
   ]
  },
  {
   "cell_type": "code",
   "execution_count": 102,
   "id": "b78435dd-4c3d-420c-98e1-50956971207e",
   "metadata": {},
   "outputs": [
    {
     "name": "stdout",
     "output_type": "stream",
     "text": [
      "Review: The food was good\n",
      "Predicted Sentiment: Positive\n",
      "Probability (Positive):  0.9383\n"
     ]
    }
   ],
   "source": [
    "#Test the trained sentiment analysis model\n",
    "test_review = 'The food was good'\n",
    "sentiment, prob = predict_sentiment(test_review, tokenizer, model)\n",
    "print(f\"Review: {test_review}\")\n",
    "print(f\"Predicted Sentiment: {sentiment}\")\n",
    "print(F\"Probability (Positive): {prob: .4f}\")"
   ]
  }
 ],
 "metadata": {
  "kernelspec": {
   "display_name": "Python 3 (ipykernel)",
   "language": "python",
   "name": "python3"
  },
  "language_info": {
   "codemirror_mode": {
    "name": "ipython",
    "version": 3
   },
   "file_extension": ".py",
   "mimetype": "text/x-python",
   "name": "python",
   "nbconvert_exporter": "python",
   "pygments_lexer": "ipython3",
   "version": "3.11.11"
  }
 },
 "nbformat": 4,
 "nbformat_minor": 5
}
